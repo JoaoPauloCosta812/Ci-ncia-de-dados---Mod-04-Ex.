{
 "cells": [
  {
   "cell_type": "markdown",
   "metadata": {},
   "source": [
    "# Tarefa 03\n",
    "\n",
    "- Leia os enunciados com atenção\n",
    "- Saiba que pode haver mais de uma resposta correta\n",
    "- Insira novas células de código sempre que achar necessário\n",
    "- Em caso de dúvidas, procure os Tutores\n",
    "- Divirta-se :)"
   ]
  },
  {
   "cell_type": "code",
   "execution_count": 1,
   "metadata": {},
   "outputs": [],
   "source": [
    "import pandas as pd\n",
    "import requests"
   ]
  },
  {
   "cell_type": "markdown",
   "metadata": {},
   "source": [
    "####  1) Lendo de APIs\n",
    "Vimos em aula como carregar dados públicos do governo através de um API (*Application Programming Interface*). No exemplo de aula, baixamos os dados de pedidos de verificação de limites (PVL) realizados por estados, e selecionamos apenas aqueles referentes ao estado de São Paulo.\n",
    "\n",
    "1. Repita os mesmos passos feitos em aula, mas selecione os PVLs realizados por municípios no estado do Rio de Janeiro.\n",
    "2. Quais são os três *status* das solicitações mais frequentes na base? Quais são suas frequências?\n",
    "3. Construa uma nova variável que contenha o ano do **status**. Observe que ```data_status``` vem como tipo *object* no **DataFrame**. Dica: você pode usar o método ```.str``` para transformar o tipo da variável em string, em seguida um método como [**slice()**](https://pandas.pydata.org/docs/reference/api/pandas.Series.str.slice.html) ou [**split()**](https://pandas.pydata.org/pandas-docs/stable/reference/api/pandas.Series.str.split.html).\n",
    "4. Indique a frequência de cada ano do campo construído no item (3)."
   ]
  },
  {
   "cell_type": "code",
   "execution_count": 2,
   "metadata": {},
   "outputs": [
    {
     "name": "stdout",
     "output_type": "stream",
     "text": [
      "Chaves principais do JSON:\n",
      "dict_keys(['items', 'hasMore', 'limit', 'offset', 'count', 'links'])\n",
      "\n",
      "🧾 Primeiras linhas do DataFrame:\n"
     ]
    },
    {
     "data": {
      "text/html": [
       "<div>\n",
       "<style scoped>\n",
       "    .dataframe tbody tr th:only-of-type {\n",
       "        vertical-align: middle;\n",
       "    }\n",
       "\n",
       "    .dataframe tbody tr th {\n",
       "        vertical-align: top;\n",
       "    }\n",
       "\n",
       "    .dataframe thead th {\n",
       "        text-align: right;\n",
       "    }\n",
       "</style>\n",
       "<table border=\"1\" class=\"dataframe\">\n",
       "  <thead>\n",
       "    <tr style=\"text-align: right;\">\n",
       "      <th></th>\n",
       "      <th>id_pleito</th>\n",
       "      <th>tipo_interessado</th>\n",
       "      <th>interessado</th>\n",
       "      <th>cod_ibge</th>\n",
       "      <th>uf</th>\n",
       "      <th>num_pvl</th>\n",
       "      <th>status</th>\n",
       "      <th>num_processo</th>\n",
       "      <th>data_protocolo</th>\n",
       "      <th>tipo_operacao</th>\n",
       "      <th>finalidade</th>\n",
       "      <th>tipo_credor</th>\n",
       "      <th>credor</th>\n",
       "      <th>moeda</th>\n",
       "      <th>valor</th>\n",
       "      <th>pvl_assoc_divida</th>\n",
       "      <th>pvl_contradado_credor</th>\n",
       "      <th>data_status</th>\n",
       "    </tr>\n",
       "  </thead>\n",
       "  <tbody>\n",
       "    <tr>\n",
       "      <th>0</th>\n",
       "      <td>9252</td>\n",
       "      <td>Município</td>\n",
       "      <td>Maruim</td>\n",
       "      <td>2804003</td>\n",
       "      <td>SE</td>\n",
       "      <td>None</td>\n",
       "      <td>Arquivado</td>\n",
       "      <td>17944.000938/2008-38</td>\n",
       "      <td>2008-06-25T00:00:00Z</td>\n",
       "      <td>Operação contratual interna</td>\n",
       "      <td>Caminho da Escola 2</td>\n",
       "      <td>Instituição Financeira Nacional</td>\n",
       "      <td>Caixa Econômica Federal</td>\n",
       "      <td>Real</td>\n",
       "      <td>518100.0</td>\n",
       "      <td>0</td>\n",
       "      <td>0</td>\n",
       "      <td>29/09/2008</td>\n",
       "    </tr>\n",
       "    <tr>\n",
       "      <th>1</th>\n",
       "      <td>9253</td>\n",
       "      <td>Município</td>\n",
       "      <td>Santa Cruz da Baixa Verde</td>\n",
       "      <td>2612471</td>\n",
       "      <td>PE</td>\n",
       "      <td>None</td>\n",
       "      <td>Arquivado por decurso de prazo</td>\n",
       "      <td>17944.000938/2009-19</td>\n",
       "      <td>2011-01-10T00:00:00Z</td>\n",
       "      <td>Operação contratual interna</td>\n",
       "      <td>Provias 2009</td>\n",
       "      <td>Instituição Financeira Nacional</td>\n",
       "      <td>Banco do Brasil S/A</td>\n",
       "      <td>Real</td>\n",
       "      <td>200000.0</td>\n",
       "      <td>0</td>\n",
       "      <td>0</td>\n",
       "      <td>27/08/2012</td>\n",
       "    </tr>\n",
       "    <tr>\n",
       "      <th>2</th>\n",
       "      <td>9259</td>\n",
       "      <td>Município</td>\n",
       "      <td>Itamarandiba</td>\n",
       "      <td>3132503</td>\n",
       "      <td>MG</td>\n",
       "      <td>None</td>\n",
       "      <td>Deferido</td>\n",
       "      <td>17944.000939/2012-69</td>\n",
       "      <td>2012-06-22T00:00:00Z</td>\n",
       "      <td>Operação contratual interna</td>\n",
       "      <td>Provias 2012</td>\n",
       "      <td>Instituição Financeira Nacional</td>\n",
       "      <td>Banco do Brasil S/A</td>\n",
       "      <td>Real</td>\n",
       "      <td>1250000.0</td>\n",
       "      <td>1</td>\n",
       "      <td>0</td>\n",
       "      <td>06/07/2012</td>\n",
       "    </tr>\n",
       "    <tr>\n",
       "      <th>3</th>\n",
       "      <td>9271</td>\n",
       "      <td>Município</td>\n",
       "      <td>Alto Paraíso</td>\n",
       "      <td>4128625</td>\n",
       "      <td>PR</td>\n",
       "      <td>None</td>\n",
       "      <td>Deferido</td>\n",
       "      <td>17944.000943/2013-16</td>\n",
       "      <td>2013-09-03T00:00:00Z</td>\n",
       "      <td>Operação contratual interna</td>\n",
       "      <td>Aquisição de máquinas, equipamentos e veículos</td>\n",
       "      <td>Instituição Financeira Nacional</td>\n",
       "      <td>Agência de Fomento do Paraná S/A</td>\n",
       "      <td>Real</td>\n",
       "      <td>400000.0</td>\n",
       "      <td>1</td>\n",
       "      <td>0</td>\n",
       "      <td>08/10/2013</td>\n",
       "    </tr>\n",
       "    <tr>\n",
       "      <th>4</th>\n",
       "      <td>9273</td>\n",
       "      <td>Município</td>\n",
       "      <td>Bugre</td>\n",
       "      <td>3109253</td>\n",
       "      <td>MG</td>\n",
       "      <td>None</td>\n",
       "      <td>Deferido</td>\n",
       "      <td>17944.000944/2010-18</td>\n",
       "      <td>2010-06-29T00:00:00Z</td>\n",
       "      <td>Operação contratual interna</td>\n",
       "      <td>Aquisição de máquinas, equipamentos e veículos</td>\n",
       "      <td>Instituição Financeira Nacional</td>\n",
       "      <td>Banco de Desenvolvimento de Minas Gerais S/A</td>\n",
       "      <td>Real</td>\n",
       "      <td>306879.0</td>\n",
       "      <td>1</td>\n",
       "      <td>0</td>\n",
       "      <td>23/07/2010</td>\n",
       "    </tr>\n",
       "  </tbody>\n",
       "</table>\n",
       "</div>"
      ],
      "text/plain": [
       "   id_pleito tipo_interessado                interessado  cod_ibge  uf  \\\n",
       "0       9252        Município                     Maruim   2804003  SE   \n",
       "1       9253        Município  Santa Cruz da Baixa Verde   2612471  PE   \n",
       "2       9259        Município               Itamarandiba   3132503  MG   \n",
       "3       9271        Município               Alto Paraíso   4128625  PR   \n",
       "4       9273        Município                      Bugre   3109253  MG   \n",
       "\n",
       "  num_pvl                          status          num_processo  \\\n",
       "0    None                       Arquivado  17944.000938/2008-38   \n",
       "1    None  Arquivado por decurso de prazo  17944.000938/2009-19   \n",
       "2    None                        Deferido  17944.000939/2012-69   \n",
       "3    None                        Deferido  17944.000943/2013-16   \n",
       "4    None                        Deferido  17944.000944/2010-18   \n",
       "\n",
       "         data_protocolo                tipo_operacao  \\\n",
       "0  2008-06-25T00:00:00Z  Operação contratual interna   \n",
       "1  2011-01-10T00:00:00Z  Operação contratual interna   \n",
       "2  2012-06-22T00:00:00Z  Operação contratual interna   \n",
       "3  2013-09-03T00:00:00Z  Operação contratual interna   \n",
       "4  2010-06-29T00:00:00Z  Operação contratual interna   \n",
       "\n",
       "                                       finalidade  \\\n",
       "0                             Caminho da Escola 2   \n",
       "1                                    Provias 2009   \n",
       "2                                    Provias 2012   \n",
       "3  Aquisição de máquinas, equipamentos e veículos   \n",
       "4  Aquisição de máquinas, equipamentos e veículos   \n",
       "\n",
       "                       tipo_credor  \\\n",
       "0  Instituição Financeira Nacional   \n",
       "1  Instituição Financeira Nacional   \n",
       "2  Instituição Financeira Nacional   \n",
       "3  Instituição Financeira Nacional   \n",
       "4  Instituição Financeira Nacional   \n",
       "\n",
       "                                         credor moeda      valor  \\\n",
       "0                       Caixa Econômica Federal  Real   518100.0   \n",
       "1                           Banco do Brasil S/A  Real   200000.0   \n",
       "2                           Banco do Brasil S/A  Real  1250000.0   \n",
       "3              Agência de Fomento do Paraná S/A  Real   400000.0   \n",
       "4  Banco de Desenvolvimento de Minas Gerais S/A  Real   306879.0   \n",
       "\n",
       "   pvl_assoc_divida  pvl_contradado_credor data_status  \n",
       "0                 0                      0  29/09/2008  \n",
       "1                 0                      0  27/08/2012  \n",
       "2                 1                      0  06/07/2012  \n",
       "3                 1                      0  08/10/2013  \n",
       "4                 1                      0  23/07/2010  "
      ]
     },
     "execution_count": 2,
     "metadata": {},
     "output_type": "execute_result"
    }
   ],
   "source": [
    "# 1) Seu código aqui\n",
    "url = 'https://apidatalake.tesouro.gov.br/ords/sadipem/tt/pvl'\n",
    "resposta = requests.get(url)\n",
    "\n",
    "print(\"Chaves principais do JSON:\")\n",
    "print(resposta.json().keys())\n",
    "print()\n",
    "\n",
    "dados = resposta.json()['items']\n",
    "df_plv = pd.DataFrame(dados)\n",
    "print(\"🧾 Primeiras linhas do DataFrame:\")\n",
    "df_plv.head()"
   ]
  },
  {
   "cell_type": "code",
   "execution_count": 3,
   "metadata": {},
   "outputs": [
    {
     "data": {
      "text/plain": [
       "status\n",
       "Deferido                                                 2900\n",
       "Deferido (PVL-IF)                                         715\n",
       "Arquivado                                                 462\n",
       "Arquivado por decurso de prazo                            291\n",
       "Encaminhado à PGFN com manifestação técnica favorável     230\n",
       "Regularizado                                              203\n",
       "Arquivado a pedido                                         97\n",
       "Em retificação pelo interessado                            23\n",
       "Indeferido                                                 18\n",
       "Em retificação pelo interessado (PVL-IF)                   11\n",
       "Em retificação pelo credor (PVL-IF)                         8\n",
       "Em retificação pelo credor                                  6\n",
       "Arquivado a pedido (PVL-IF)                                 6\n",
       "Cancelado                                                   6\n",
       "Em análise                                                  5\n",
       "Arquivado por decurso de prazo (PVL-IF)                     5\n",
       "Pendente de regularização                                   3\n",
       "Arquivado pela STN                                          3\n",
       "Assinado pelo interessado (retificação)                     3\n",
       "Regular por decisão judicial                                2\n",
       "Encaminhado à PGFN (decisão judicial)                       2\n",
       "Em análise (PVL-IF)                                         1\n",
       "Name: count, dtype: int64"
      ]
     },
     "execution_count": 3,
     "metadata": {},
     "output_type": "execute_result"
    }
   ],
   "source": [
    "# 2) Seu código aqui\n",
    "df_plv['status'].value_counts()"
   ]
  },
  {
   "cell_type": "code",
   "execution_count": 4,
   "metadata": {},
   "outputs": [
    {
     "name": "stdout",
     "output_type": "stream",
     "text": [
      "object\n",
      "0    2008\n",
      "1    2012\n",
      "2    2012\n",
      "3    2013\n",
      "4    2010\n",
      "Name: data_status, dtype: int64\n"
     ]
    }
   ],
   "source": [
    "# 3) Seu código aqui\n",
    "print(df_plv['data_status'].dtype)\n",
    "\n",
    "ano_status = df_plv['data_status'].str[-4:].astype(int)\n",
    "print(ano_status.head())"
   ]
  },
  {
   "cell_type": "code",
   "execution_count": 5,
   "metadata": {},
   "outputs": [
    {
     "name": "stdout",
     "output_type": "stream",
     "text": [
      "data_status\n",
      "2008    485\n",
      "2010    346\n",
      "2007    330\n",
      "2014    298\n",
      "2006    281\n",
      "2012    277\n",
      "2011    250\n",
      "2013    249\n",
      "2019    233\n",
      "2016    221\n",
      "2009    216\n",
      "2004    200\n",
      "2023    193\n",
      "2022    175\n",
      "2015    174\n",
      "2018    157\n",
      "2017    149\n",
      "2021    143\n",
      "2002    133\n",
      "2020    125\n",
      "2003    114\n",
      "2024    113\n",
      "2025     81\n",
      "2005     57\n",
      "Name: count, dtype: int64\n"
     ]
    }
   ],
   "source": [
    "# 4) Seu código aqui\n",
    "frequencia_ano = ano_status.value_counts()\n",
    "print(frequencia_ano)"
   ]
  },
  {
   "cell_type": "markdown",
   "metadata": {},
   "source": [
    "####  2) Melhorando a interação com o API\n",
    "Observe dois URLs de consultas diferentes, por exemplo o URL utilizado em aula, e o URL feito no exercício anterior. Compare-os e observe as diferenças.\n",
    "\n",
    "1. Faça uma função em Python que recebe como argumento o UF da consulta e o tipo de interessado (```'Estado'```ou ```Município```), e que devolve os dados da consulta no formato *DataFrame*.\n",
    "2. Quantas solicitações para o Estado podem ser consultadas para Minas Gerais com *status* em 'Arquivado por decurso de prazo' estão registradas?\n",
    "3. Qual é o município da Bahia com mais solicitações deferidas?\n",
    "4. Salve um arquivo .csv com os dados de solicitações da Bahia, com interessado = 'Estado'"
   ]
  },
  {
   "cell_type": "code",
   "execution_count": 6,
   "metadata": {},
   "outputs": [],
   "source": [
    "#1) Seu código aqui\n",
    "def consultar_solicitacoes(uf, tipo_interessado):\n",
    "    url_base = 'https://apidatalake.tesouro.gov.br/ords/sadipem/tt/pvl'\n",
    "    parametros = {\n",
    "        'uf': uf,\n",
    "        'tipo_interessado': tipo_interessado\n",
    "    }\n",
    "    resposta = requests.get(url_base, params=parametros)\n",
    "    \n",
    "    # Verifica se deu certo\n",
    "    if resposta.status_code != 200:\n",
    "        print(f\"Erro na consulta: status code {resposta.status_code}\")\n",
    "        return None\n",
    "    \n",
    "    dados = resposta.json()['items']\n",
    "    df = pd.DataFrame(dados)\n",
    "    return df"
   ]
  },
  {
   "cell_type": "code",
   "execution_count": 7,
   "metadata": {},
   "outputs": [
    {
     "name": "stdout",
     "output_type": "stream",
     "text": [
      "Quantidade de solicitações arquivadas por decurso de prazo em MG: 1\n"
     ]
    }
   ],
   "source": [
    "# 2) Seu código aqui\n",
    "df_mg_estado = consultar_solicitacoes('MG', 'Estado')\n",
    "\n",
    "# Filtra pelo status\n",
    "df_filtrado = df_mg_estado[df_mg_estado['status'] == 'Arquivado por decurso de prazo']\n",
    "\n",
    "# Conta quantas linhas existem\n",
    "quantidade = len(df_filtrado)\n",
    "print(f\"Quantidade de solicitações arquivadas por decurso de prazo em MG: {quantidade}\")"
   ]
  },
  {
   "cell_type": "code",
   "execution_count": 8,
   "metadata": {},
   "outputs": [
    {
     "name": "stdout",
     "output_type": "stream",
     "text": [
      "Index(['id_pleito', 'tipo_interessado', 'interessado', 'cod_ibge', 'uf',\n",
      "       'num_pvl', 'status', 'num_processo', 'data_protocolo', 'tipo_operacao',\n",
      "       'finalidade', 'tipo_credor', 'credor', 'moeda', 'valor',\n",
      "       'pvl_assoc_divida', 'pvl_contradado_credor', 'data_status'],\n",
      "      dtype='object')\n"
     ]
    }
   ],
   "source": [
    "# 3) Seu código aqui\n",
    "df_ba_municipio = consultar_solicitacoes('BA', 'Município')\n",
    "print(df_ba_municipio.columns)"
   ]
  },
  {
   "cell_type": "markdown",
   "metadata": {},
   "source": [
    "##### Comentario do Aluno\n",
    "Podemos ver que não temos uma coluna referente aos nomes dos municípios, mas sim ao seus respectivos codigos do IBGE.\n",
    "Então precisamos usa-los para ter uma resposta de qual município com mais solicitações, mas ao fazê-lo a resposta viria também com o digo e não o nome do municipio, o que faria necessario o uso da tabela propria do IBGE para sabermos de que municipio se trata.\n",
    "Dessa forma achei de bom uso, trazer para o codigo a tabela do IBGE e fazer uso dela para melhorar o resultado"
   ]
  },
  {
   "cell_type": "code",
   "execution_count": 21,
   "metadata": {},
   "outputs": [
    {
     "name": "stdout",
     "output_type": "stream",
     "text": [
      "Index(['COD UF', 'COD', 'NOME'], dtype='object')\n",
      "   COD UF      COD                   NOME\n",
      "0      11  1100015  Alta Floresta D'oeste\n",
      "1      11  1100023              Ariquemes\n",
      "2      11  1100031                 Cabixi\n",
      "3      11  1100049                 Cacoal\n",
      "4      11  1100056             Cerejeiras\n",
      "Index(['COD UF', 'COD', 'NOME'], dtype='object')\n"
     ]
    }
   ],
   "source": [
    "# Carrega os municípios direto do GitHub\n",
    "url = 'https://raw.githubusercontent.com/leogermani/estados-e-municipios-ibge/master/municipios.csv'\n",
    "df_municipios = pd.read_csv(url)\n",
    "\n",
    "# Visualiza as colunas\n",
    "print(df_municipios.columns)\n",
    "print(df_municipios.head())"
   ]
  },
  {
   "cell_type": "code",
   "execution_count": 22,
   "metadata": {},
   "outputs": [
    {
     "name": "stdout",
     "output_type": "stream",
     "text": [
      "Index(['COD UF', 'COD', 'NOME'], dtype='object')\n"
     ]
    }
   ],
   "source": [
    "print(df_municipios.columns)"
   ]
  },
  {
   "cell_type": "code",
   "execution_count": 15,
   "metadata": {},
   "outputs": [],
   "source": [
    "\n",
    "df_deferidos = df_ba_municipio[df_ba_municipio['status'] == 'Deferido']\n",
    "\n",
    "contagem_municipios = df_deferidos['cod_ibge'].value_counts()\n",
    "\n",
    "municipio_mais_deferidos = contagem_municipios.idxmax()\n",
    "quantidade = contagem_municipios.max()"
   ]
  },
  {
   "cell_type": "code",
   "execution_count": 24,
   "metadata": {},
   "outputs": [],
   "source": [
    "df_municipios.rename(columns={\n",
    "    'COD': 'cod_ibge',\n",
    "    'NOME': 'municipio'\n",
    "}, inplace=True)\n",
    "\n",
    "df_municipios['cod_ibge'] = df_municipios['cod_ibge'].astype(int)"
   ]
  },
  {
   "cell_type": "code",
   "execution_count": 25,
   "metadata": {},
   "outputs": [
    {
     "name": "stdout",
     "output_type": "stream",
     "text": [
      "Município da Bahia com mais solicitações deferidas: Luís Eduardo Magalhães (16 solicitações)\n"
     ]
    }
   ],
   "source": [
    "df_com_nomes = df_deferidos.merge(\n",
    "    df_municipios[['cod_ibge', 'municipio']],\n",
    "    on='cod_ibge',\n",
    "    how='left'\n",
    ")\n",
    "\n",
    "# Conta por município\n",
    "contagem_municipios = df_com_nomes['municipio'].value_counts()\n",
    "\n",
    "municipio_mais_deferidos = contagem_municipios.idxmax()\n",
    "quantidade = contagem_municipios.max()\n",
    "\n",
    "print(f\"Município da Bahia com mais solicitações deferidas: {municipio_mais_deferidos} ({quantidade} solicitações)\")"
   ]
  },
  {
   "cell_type": "code",
   "execution_count": 26,
   "metadata": {},
   "outputs": [
    {
     "name": "stdout",
     "output_type": "stream",
     "text": [
      "Arquivo 'solicitacoes_bahia_estado.csv' salvo com sucesso.\n"
     ]
    }
   ],
   "source": [
    "# 4) Seu código aqui\n",
    "df_ba_estado = consultar_solicitacoes('BA', 'Estado')\n",
    "\n",
    "# Salva em CSV\n",
    "df_ba_estado.to_csv('solicitacoes_bahia_estado.csv', index=False)\n",
    "\n",
    "print(\"Arquivo 'solicitacoes_bahia_estado.csv' salvo com sucesso.\")"
   ]
  }
 ],
 "metadata": {
  "kernelspec": {
   "display_name": "Python 3 (ipykernel)",
   "language": "python",
   "name": "python3"
  },
  "language_info": {
   "codemirror_mode": {
    "name": "ipython",
    "version": 3
   },
   "file_extension": ".py",
   "mimetype": "text/x-python",
   "name": "python",
   "nbconvert_exporter": "python",
   "pygments_lexer": "ipython3",
   "version": "3.13.5"
  }
 },
 "nbformat": 4,
 "nbformat_minor": 4
}
